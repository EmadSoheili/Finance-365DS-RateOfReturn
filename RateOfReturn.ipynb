{
 "cells": [
  {
   "cell_type": "code",
   "execution_count": 1,
   "id": "0b1afcda",
   "metadata": {},
   "outputs": [],
   "source": [
    "# Add dependencies\n",
    "import numpy as np\n",
    "from pandas_datareader import data as wb\n",
    "import matplotlib.pyplot as plt"
   ]
  },
  {
   "cell_type": "code",
   "execution_count": 6,
   "id": "39cb915a",
   "metadata": {},
   "outputs": [
    {
     "data": {
      "text/html": [
       "<div>\n",
       "<style scoped>\n",
       "    .dataframe tbody tr th:only-of-type {\n",
       "        vertical-align: middle;\n",
       "    }\n",
       "\n",
       "    .dataframe tbody tr th {\n",
       "        vertical-align: top;\n",
       "    }\n",
       "\n",
       "    .dataframe thead th {\n",
       "        text-align: right;\n",
       "    }\n",
       "</style>\n",
       "<table border=\"1\" class=\"dataframe\">\n",
       "  <thead>\n",
       "    <tr style=\"text-align: right;\">\n",
       "      <th></th>\n",
       "      <th>High</th>\n",
       "      <th>Low</th>\n",
       "      <th>Open</th>\n",
       "      <th>Close</th>\n",
       "      <th>Volume</th>\n",
       "      <th>Adj Close</th>\n",
       "    </tr>\n",
       "    <tr>\n",
       "      <th>Date</th>\n",
       "      <th></th>\n",
       "      <th></th>\n",
       "      <th></th>\n",
       "      <th></th>\n",
       "      <th></th>\n",
       "      <th></th>\n",
       "    </tr>\n",
       "  </thead>\n",
       "  <tbody>\n",
       "    <tr>\n",
       "      <th>1995-01-03</th>\n",
       "      <td>15.625000</td>\n",
       "      <td>15.437500</td>\n",
       "      <td>15.468750</td>\n",
       "      <td>15.593750</td>\n",
       "      <td>3318400.0</td>\n",
       "      <td>7.820023</td>\n",
       "    </tr>\n",
       "    <tr>\n",
       "      <th>1995-01-04</th>\n",
       "      <td>15.656250</td>\n",
       "      <td>15.312500</td>\n",
       "      <td>15.531250</td>\n",
       "      <td>15.468750</td>\n",
       "      <td>2218800.0</td>\n",
       "      <td>7.757339</td>\n",
       "    </tr>\n",
       "    <tr>\n",
       "      <th>1995-01-05</th>\n",
       "      <td>15.437500</td>\n",
       "      <td>15.218750</td>\n",
       "      <td>15.375000</td>\n",
       "      <td>15.250000</td>\n",
       "      <td>2319600.0</td>\n",
       "      <td>7.647637</td>\n",
       "    </tr>\n",
       "    <tr>\n",
       "      <th>1995-01-06</th>\n",
       "      <td>15.406250</td>\n",
       "      <td>15.156250</td>\n",
       "      <td>15.156250</td>\n",
       "      <td>15.281250</td>\n",
       "      <td>3438000.0</td>\n",
       "      <td>7.663309</td>\n",
       "    </tr>\n",
       "    <tr>\n",
       "      <th>1995-01-09</th>\n",
       "      <td>15.406250</td>\n",
       "      <td>15.187500</td>\n",
       "      <td>15.343750</td>\n",
       "      <td>15.218750</td>\n",
       "      <td>1795200.0</td>\n",
       "      <td>7.631968</td>\n",
       "    </tr>\n",
       "    <tr>\n",
       "      <th>...</th>\n",
       "      <td>...</td>\n",
       "      <td>...</td>\n",
       "      <td>...</td>\n",
       "      <td>...</td>\n",
       "      <td>...</td>\n",
       "      <td>...</td>\n",
       "    </tr>\n",
       "    <tr>\n",
       "      <th>2022-10-31</th>\n",
       "      <td>135.669998</td>\n",
       "      <td>134.259995</td>\n",
       "      <td>135.199997</td>\n",
       "      <td>134.669998</td>\n",
       "      <td>8346300.0</td>\n",
       "      <td>134.669998</td>\n",
       "    </tr>\n",
       "    <tr>\n",
       "      <th>2022-11-01</th>\n",
       "      <td>136.279999</td>\n",
       "      <td>133.839996</td>\n",
       "      <td>134.699997</td>\n",
       "      <td>134.880005</td>\n",
       "      <td>6428300.0</td>\n",
       "      <td>134.880005</td>\n",
       "    </tr>\n",
       "    <tr>\n",
       "      <th>2022-11-02</th>\n",
       "      <td>136.539993</td>\n",
       "      <td>132.809998</td>\n",
       "      <td>134.720001</td>\n",
       "      <td>132.940002</td>\n",
       "      <td>7318100.0</td>\n",
       "      <td>132.940002</td>\n",
       "    </tr>\n",
       "    <tr>\n",
       "      <th>2022-11-03</th>\n",
       "      <td>132.639999</td>\n",
       "      <td>130.960007</td>\n",
       "      <td>131.729996</td>\n",
       "      <td>132.029999</td>\n",
       "      <td>5204000.0</td>\n",
       "      <td>132.029999</td>\n",
       "    </tr>\n",
       "    <tr>\n",
       "      <th>2022-11-04</th>\n",
       "      <td>135.000000</td>\n",
       "      <td>132.520004</td>\n",
       "      <td>133.320007</td>\n",
       "      <td>134.440002</td>\n",
       "      <td>5555400.0</td>\n",
       "      <td>134.440002</td>\n",
       "    </tr>\n",
       "  </tbody>\n",
       "</table>\n",
       "<p>7012 rows × 6 columns</p>\n",
       "</div>"
      ],
      "text/plain": [
       "                  High         Low        Open       Close     Volume  \\\n",
       "Date                                                                    \n",
       "1995-01-03   15.625000   15.437500   15.468750   15.593750  3318400.0   \n",
       "1995-01-04   15.656250   15.312500   15.531250   15.468750  2218800.0   \n",
       "1995-01-05   15.437500   15.218750   15.375000   15.250000  2319600.0   \n",
       "1995-01-06   15.406250   15.156250   15.156250   15.281250  3438000.0   \n",
       "1995-01-09   15.406250   15.187500   15.343750   15.218750  1795200.0   \n",
       "...                ...         ...         ...         ...        ...   \n",
       "2022-10-31  135.669998  134.259995  135.199997  134.669998  8346300.0   \n",
       "2022-11-01  136.279999  133.839996  134.699997  134.880005  6428300.0   \n",
       "2022-11-02  136.539993  132.809998  134.720001  132.940002  7318100.0   \n",
       "2022-11-03  132.639999  130.960007  131.729996  132.029999  5204000.0   \n",
       "2022-11-04  135.000000  132.520004  133.320007  134.440002  5555400.0   \n",
       "\n",
       "             Adj Close  \n",
       "Date                    \n",
       "1995-01-03    7.820023  \n",
       "1995-01-04    7.757339  \n",
       "1995-01-05    7.647637  \n",
       "1995-01-06    7.663309  \n",
       "1995-01-09    7.631968  \n",
       "...                ...  \n",
       "2022-10-31  134.669998  \n",
       "2022-11-01  134.880005  \n",
       "2022-11-02  132.940002  \n",
       "2022-11-03  132.029999  \n",
       "2022-11-04  134.440002  \n",
       "\n",
       "[7012 rows x 6 columns]"
      ]
     },
     "execution_count": 6,
     "metadata": {},
     "output_type": "execute_result"
    }
   ],
   "source": [
    "# Load data\n",
    "PG = wb.DataReader('PG', data_source='yahoo', start='1995-1-1')\n",
    "PG"
   ]
  },
  {
   "cell_type": "code",
   "execution_count": 9,
   "id": "5e849485",
   "metadata": {},
   "outputs": [
    {
     "data": {
      "text/html": [
       "<div>\n",
       "<style scoped>\n",
       "    .dataframe tbody tr th:only-of-type {\n",
       "        vertical-align: middle;\n",
       "    }\n",
       "\n",
       "    .dataframe tbody tr th {\n",
       "        vertical-align: top;\n",
       "    }\n",
       "\n",
       "    .dataframe thead th {\n",
       "        text-align: right;\n",
       "    }\n",
       "</style>\n",
       "<table border=\"1\" class=\"dataframe\">\n",
       "  <thead>\n",
       "    <tr style=\"text-align: right;\">\n",
       "      <th></th>\n",
       "      <th>Adj Close</th>\n",
       "      <th>simple_return</th>\n",
       "    </tr>\n",
       "    <tr>\n",
       "      <th>Date</th>\n",
       "      <th></th>\n",
       "      <th></th>\n",
       "    </tr>\n",
       "  </thead>\n",
       "  <tbody>\n",
       "    <tr>\n",
       "      <th>1995-01-03</th>\n",
       "      <td>7.820023</td>\n",
       "      <td>NaN</td>\n",
       "    </tr>\n",
       "    <tr>\n",
       "      <th>1995-01-04</th>\n",
       "      <td>7.757339</td>\n",
       "      <td>-0.008016</td>\n",
       "    </tr>\n",
       "    <tr>\n",
       "      <th>1995-01-05</th>\n",
       "      <td>7.647637</td>\n",
       "      <td>-0.014142</td>\n",
       "    </tr>\n",
       "    <tr>\n",
       "      <th>1995-01-06</th>\n",
       "      <td>7.663309</td>\n",
       "      <td>0.002049</td>\n",
       "    </tr>\n",
       "    <tr>\n",
       "      <th>1995-01-09</th>\n",
       "      <td>7.631968</td>\n",
       "      <td>-0.004090</td>\n",
       "    </tr>\n",
       "    <tr>\n",
       "      <th>...</th>\n",
       "      <td>...</td>\n",
       "      <td>...</td>\n",
       "    </tr>\n",
       "    <tr>\n",
       "      <th>2022-10-31</th>\n",
       "      <td>134.669998</td>\n",
       "      <td>-0.004067</td>\n",
       "    </tr>\n",
       "    <tr>\n",
       "      <th>2022-11-01</th>\n",
       "      <td>134.880005</td>\n",
       "      <td>0.001559</td>\n",
       "    </tr>\n",
       "    <tr>\n",
       "      <th>2022-11-02</th>\n",
       "      <td>132.940002</td>\n",
       "      <td>-0.014383</td>\n",
       "    </tr>\n",
       "    <tr>\n",
       "      <th>2022-11-03</th>\n",
       "      <td>132.029999</td>\n",
       "      <td>-0.006845</td>\n",
       "    </tr>\n",
       "    <tr>\n",
       "      <th>2022-11-04</th>\n",
       "      <td>134.440002</td>\n",
       "      <td>0.018253</td>\n",
       "    </tr>\n",
       "  </tbody>\n",
       "</table>\n",
       "<p>7012 rows × 2 columns</p>\n",
       "</div>"
      ],
      "text/plain": [
       "             Adj Close  simple_return\n",
       "Date                                 \n",
       "1995-01-03    7.820023            NaN\n",
       "1995-01-04    7.757339      -0.008016\n",
       "1995-01-05    7.647637      -0.014142\n",
       "1995-01-06    7.663309       0.002049\n",
       "1995-01-09    7.631968      -0.004090\n",
       "...                ...            ...\n",
       "2022-10-31  134.669998      -0.004067\n",
       "2022-11-01  134.880005       0.001559\n",
       "2022-11-02  132.940002      -0.014383\n",
       "2022-11-03  132.029999      -0.006845\n",
       "2022-11-04  134.440002       0.018253\n",
       "\n",
       "[7012 rows x 2 columns]"
      ]
     },
     "execution_count": 9,
     "metadata": {},
     "output_type": "execute_result"
    }
   ],
   "source": [
    "# Calculate daily Simple Rate of Return\n",
    "PG['simple_return'] = (PG['Adj Close']/PG['Adj Close'].shift(1)) - 1\n",
    "PG[['Adj Close','simple_return']]"
   ]
  },
  {
   "cell_type": "code",
   "execution_count": 12,
   "id": "4e356564",
   "metadata": {},
   "outputs": [
    {
     "data": {
      "image/png": "[encoded data removed]",
      "text/plain": [
       "<Figure size 576x360 with 1 Axes>"
      ]
     },
     "metadata": {
      "needs_background": "light"
     },
     "output_type": "display_data"
    }
   ],
   "source": [
    "# Plot the result\n",
    "PG['simple_return'].plot(figsize=(8,5))\n",
    "plt.show()"
   ]
  },
  {
   "cell_type": "code",
   "execution_count": 13,
   "id": "0a7f171b",
   "metadata": {},
   "outputs": [
    {
     "data": {
      "text/plain": [
       "0.0005060679870141808"
      ]
     },
     "execution_count": 13,
     "metadata": {},
     "output_type": "execute_result"
    }
   ],
   "source": [
    "# Calculate average of daily Simple Rate of Returns\n",
    "avg_daily_return = PG['simple_return'].mean()\n",
    "avg_daily_return"
   ]
  },
  {
   "cell_type": "code",
   "execution_count": 18,
   "id": "9491061c",
   "metadata": {},
   "outputs": [
    {
     "name": "stdout",
     "output_type": "stream",
     "text": [
      "12.652%\n"
     ]
    }
   ],
   "source": [
    "# Calculate approximate annually Simple Rate of Returns based on the average\n",
    "avg_annually_return = avg_daily_return * 250\n",
    "print(f'{round(avg_annually_return,5)*100}%')"
   ]
  },
  {
   "cell_type": "code",
   "execution_count": 21,
   "id": "12d0f257",
   "metadata": {},
   "outputs": [
    {
     "data": {
      "text/html": [
       "<div>\n",
       "<style scoped>\n",
       "    .dataframe tbody tr th:only-of-type {\n",
       "        vertical-align: middle;\n",
       "    }\n",
       "\n",
       "    .dataframe tbody tr th {\n",
       "        vertical-align: top;\n",
       "    }\n",
       "\n",
       "    .dataframe thead th {\n",
       "        text-align: right;\n",
       "    }\n",
       "</style>\n",
       "<table border=\"1\" class=\"dataframe\">\n",
       "  <thead>\n",
       "    <tr style=\"text-align: right;\">\n",
       "      <th></th>\n",
       "      <th>Adj Close</th>\n",
       "      <th>simple_return</th>\n",
       "      <th>log_return</th>\n",
       "    </tr>\n",
       "    <tr>\n",
       "      <th>Date</th>\n",
       "      <th></th>\n",
       "      <th></th>\n",
       "      <th></th>\n",
       "    </tr>\n",
       "  </thead>\n",
       "  <tbody>\n",
       "    <tr>\n",
       "      <th>1995-01-03</th>\n",
       "      <td>7.820023</td>\n",
       "      <td>NaN</td>\n",
       "      <td>NaN</td>\n",
       "    </tr>\n",
       "    <tr>\n",
       "      <th>1995-01-04</th>\n",
       "      <td>7.757339</td>\n",
       "      <td>-0.008016</td>\n",
       "      <td>-0.008048</td>\n",
       "    </tr>\n",
       "    <tr>\n",
       "      <th>1995-01-05</th>\n",
       "      <td>7.647637</td>\n",
       "      <td>-0.014142</td>\n",
       "      <td>-0.014243</td>\n",
       "    </tr>\n",
       "    <tr>\n",
       "      <th>1995-01-06</th>\n",
       "      <td>7.663309</td>\n",
       "      <td>0.002049</td>\n",
       "      <td>0.002047</td>\n",
       "    </tr>\n",
       "    <tr>\n",
       "      <th>1995-01-09</th>\n",
       "      <td>7.631968</td>\n",
       "      <td>-0.004090</td>\n",
       "      <td>-0.004098</td>\n",
       "    </tr>\n",
       "    <tr>\n",
       "      <th>...</th>\n",
       "      <td>...</td>\n",
       "      <td>...</td>\n",
       "      <td>...</td>\n",
       "    </tr>\n",
       "    <tr>\n",
       "      <th>2022-10-31</th>\n",
       "      <td>134.669998</td>\n",
       "      <td>-0.004067</td>\n",
       "      <td>-0.004076</td>\n",
       "    </tr>\n",
       "    <tr>\n",
       "      <th>2022-11-01</th>\n",
       "      <td>134.880005</td>\n",
       "      <td>0.001559</td>\n",
       "      <td>0.001558</td>\n",
       "    </tr>\n",
       "    <tr>\n",
       "      <th>2022-11-02</th>\n",
       "      <td>132.940002</td>\n",
       "      <td>-0.014383</td>\n",
       "      <td>-0.014488</td>\n",
       "    </tr>\n",
       "    <tr>\n",
       "      <th>2022-11-03</th>\n",
       "      <td>132.029999</td>\n",
       "      <td>-0.006845</td>\n",
       "      <td>-0.006869</td>\n",
       "    </tr>\n",
       "    <tr>\n",
       "      <th>2022-11-04</th>\n",
       "      <td>134.440002</td>\n",
       "      <td>0.018253</td>\n",
       "      <td>0.018089</td>\n",
       "    </tr>\n",
       "  </tbody>\n",
       "</table>\n",
       "<p>7012 rows × 3 columns</p>\n",
       "</div>"
      ],
      "text/plain": [
       "             Adj Close  simple_return  log_return\n",
       "Date                                             \n",
       "1995-01-03    7.820023            NaN         NaN\n",
       "1995-01-04    7.757339      -0.008016   -0.008048\n",
       "1995-01-05    7.647637      -0.014142   -0.014243\n",
       "1995-01-06    7.663309       0.002049    0.002047\n",
       "1995-01-09    7.631968      -0.004090   -0.004098\n",
       "...                ...            ...         ...\n",
       "2022-10-31  134.669998      -0.004067   -0.004076\n",
       "2022-11-01  134.880005       0.001559    0.001558\n",
       "2022-11-02  132.940002      -0.014383   -0.014488\n",
       "2022-11-03  132.029999      -0.006845   -0.006869\n",
       "2022-11-04  134.440002       0.018253    0.018089\n",
       "\n",
       "[7012 rows x 3 columns]"
      ]
     },
     "execution_count": 21,
     "metadata": {},
     "output_type": "execute_result"
    }
   ],
   "source": [
    "# Calculate log RoR\n",
    "PG['log_return'] = np.log(PG['Adj Close'] / PG['Adj Close'].shift(1))\n",
    "PG[['Adj Close','simple_return','log_return']]"
   ]
  },
  {
   "cell_type": "code",
   "execution_count": 24,
   "id": "9c05bd7b",
   "metadata": {},
   "outputs": [
    {
     "data": {
      "image/png": "[encoded data removed]",
      "text/plain": [
       "<Figure size 576x360 with 1 Axes>"
      ]
     },
     "metadata": {
      "needs_background": "light"
     },
     "output_type": "display_data"
    }
   ],
   "source": [
    "# Plot the result\n",
    "PG['log_return'].plot(figsize = (8,5))\n",
    "plt.show()"
   ]
  },
  {
   "cell_type": "code",
   "execution_count": 25,
   "id": "cb4948d2",
   "metadata": {},
   "outputs": [
    {
     "data": {
      "text/plain": [
       "0.0004057096730330309"
      ]
     },
     "execution_count": 25,
     "metadata": {},
     "output_type": "execute_result"
    }
   ],
   "source": [
    "# Calculate average Log RoR\n",
    "avg_daily_log_return = PG['log_return'].mean()\n",
    "avg_daily_log_return"
   ]
  },
  {
   "cell_type": "code",
   "execution_count": 26,
   "id": "b2f72822",
   "metadata": {},
   "outputs": [
    {
     "name": "stdout",
     "output_type": "stream",
     "text": [
      "10.143%\n"
     ]
    }
   ],
   "source": [
    "# Calculate approximate annually Log Rate of Returns based on the average\n",
    "avg_annually_log_return = avg_daily_log_return * 250\n",
    "print(f'{round(avg_annually_log_return,5)*100}%')"
   ]
  }
 ],
 "metadata": {
  "kernelspec": {
   "display_name": "PythonData",
   "language": "python",
   "name": "pythondata"
  },
  "language_info": {
   "codemirror_mode": {
    "name": "ipython",
    "version": 3
   },
   "file_extension": ".py",
   "mimetype": "text/x-python",
   "name": "python",
   "nbconvert_exporter": "python",
   "pygments_lexer": "ipython3",
   "version": "3.9.4"
  }
 },
 "nbformat": 4,
 "nbformat_minor": 5
}
